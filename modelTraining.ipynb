{
  "metadata": {
    "kernelspec": {
      "name": "python",
      "display_name": "Python (Pyodide)",
      "language": "python"
    },
    "language_info": {
      "name": ""
    }
  },
  "nbformat_minor": 5,
  "nbformat": 4,
  "cells": [
    {
      "id": "96725c16-9d6e-4cc6-8ee9-fd8a6943424f",
      "cell_type": "code",
      "source": "\nimport pandas as pd\nimport numpy as np\nfrom sklearn.compose import ColumnTransformer\nfrom sklearn.pipeline import Pipeline\nfrom sklearn.impute import SimpleImputer\nfrom sklearn.preprocessing import OneHotEncoder, StandardScaler\n\ndf = pd.read_csv(\"airline_delay.csv\")\n\nprint(\"Dataset Info:\")\nprint(df.info())\n\nprint(\"\\nMissing Values Before Preprocessing:\")\nprint(df.isnull().sum())\n\n# dropping columns with a high percentage of missing values\ndf = df.drop(columns=[\"CANCELLATION_REASON\"])\n\n#  categorical columns are of string type\ndf[\"ORIGIN_AIRPORT\"] = df[\"ORIGIN_AIRPORT\"].astype(str)\ndf[\"DESTINATION_AIRPORT\"] = df[\"DESTINATION_AIRPORT\"].astype(str)\n\n# categorical and numeric \ncategorical_features = [\"AIRLINE\", \"ORIGIN_AIRPORT\", \"DESTINATION_AIRPORT\"]\nnumeric_features = [\n    \"YEAR\", \"MONTH\", \"DAY\", \"DAY_OF_WEEK\", \"FLIGHT_NUMBER\",\n    \"SCHEDULED_DEPARTURE\", \"DEPARTURE_TIME\", \"DEPARTURE_DELAY\",\n    \"TAXI_OUT\", \"WHEELS_OFF\", \"SCHEDULED_TIME\", \"ELAPSED_TIME\",\n    \"AIR_TIME\", \"DISTANCE\", \"WHEELS_ON\", \"TAXI_IN\",\n    \"SCHEDULED_ARRIVAL\", \"ARRIVAL_TIME\", \"DIVERTED\", \"CANCELLED\"\n]\n\n# here preprocessing for numeric features\nnumeric_transformer = Pipeline(steps=[\n    (\"imputer\", SimpleImputer(strategy=\"median\")),  #  missing values with median\n    (\"scaler\", StandardScaler())  # standardize numeric \n])\n\n# preprocessing  categorical\ncategorical_transformer = Pipeline(steps=[\n    (\"imputer\", SimpleImputer(strategy=\"most_frequent\")),  #Fill missing values with mode\n    (\"onehot\", OneHotEncoder(handle_unknown=\"ignore\", sparse_output=False))  # Onehot Encoding\n])\n\n\npreprocessor = ColumnTransformer(\n    transformers=[\n        (\"num\", numeric_transformer, numeric_features),\n        (\"cat\", categorical_transformer, categorical_features)\n    ]\n)\n\nprint(df.info())\nprint(df.info())\nprint(df.info())\nprint(df.info())\n# preprocessing pipeline\npipeline = Pipeline(steps=[\n    (\"preprocessor\", preprocessor)\n])\n\n\nX = df.drop(columns=[\"ARRIVAL_DELAY\"])  \ny = df[\"ARRIVAL_DELAY\"]  \n\n\nX_processed = pipeline.fit_transform(X)\n\n\nprocessed_columns = numeric_features + list(pipeline.named_steps[\"preprocessor\"]\n                                           .named_transformers_[\"cat\"]\n                                           .named_steps[\"onehot\"]\n                                           .get_feature_names_out(categorical_features))\ndf_processed = pd.DataFrame(X_processed, columns=processed_columns)\n\n# target variable back to the processed DataFrame\ndf_processed[\"ARRIVAL_DELAY\"] = y\n\n# new features \ndef create_new_features(df):\n   \n    df[\"TOTAL_DELAY\"] = df[\"DEPARTURE_DELAY\"] + df[\"ARRIVAL_DELAY\"]\n    return df\n\n\ndf_processed = create_new_features(df_processed)\n\ndf_processed.to_csv(\"airline_delay.csv\", index=False)\n\nprint(\"\\nPreprocessing completed. The dataset has been updated and saved to 'airline_delay.csv'.\")",
      "metadata": {
        "trusted": true
      },
      "outputs": [],
      "execution_count": null
    }
  ]
}