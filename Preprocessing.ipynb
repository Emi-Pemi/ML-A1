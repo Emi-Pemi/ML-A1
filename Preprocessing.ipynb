{
  "metadata": {
    "kernelspec": {
      "name": "python",
      "display_name": "Python (Pyodide)",
      "language": "python"
    },
    "language_info": {
      "name": ""
    }
  },
  "nbformat_minor": 5,
  "nbformat": 4,
  "cells": [
    {
      "id": "96725c16-9d6e-4cc6-8ee9-fd8a6943424f",
      "cell_type": "code",
      "source": "\nimport pandas as pd\nimport numpy as np\nimport matplotlib.pyplot as plt\nimport seaborn as sns\n\n\ndf = pd.read_csv(\"airline_delay.csv\")\n\n\nprint(\"Dataset Info:\")\nprint(df.info())\nprint(\"\\nSummary Statistics:\")\nprint(df.describe())\n\n\nprint(\"\\nMissing Values:\")\nprint(df.isnull().sum())\n\n# handeling numeric missing values\nnumeric_columns = df.select_dtypes(include=[np.number]).columns\ndf[numeric_columns] = df[numeric_columns].fillna(df[numeric_columns].median())\n\n#  missing values after handling\nprint(\"\\nMissing Values After Handling:\")\nprint(df.isnull().sum())\n\n# Histograms for numeric features\nnumeric_features = [\"DEPARTURE_DELAY\", \"ARRIVAL_DELAY\", \"SCHEDULED_ARRIVAL\", \"DISTANCE\", \"SCHEDULED_DEPARTURE\", \"WHEELS_ON\"]\ndf[numeric_features].hist(bins=30, figsize=(15, 10))\nplt.suptitle(\"Histograms of Numeric Features\")\nplt.show()\n\n# Scatter plots for pairs of numeric features\nsns.pairplot(df[numeric_features])\nplt.suptitle(\"Scatter Plots of Numeric Features\", y=1.02)\nplt.show()\n\n# Correlation \ncorr_matrix = df[numeric_features].corr()\nsns.heatmap(corr_matrix, annot=True, cmap=\"coolwarm\")\nplt.title(\"Correlation Matrix\")\nplt.show()\n\n# Boxplots \nplt.figure(figsize=(15, 10))  # Adjust figure size for better visualization\nrows, cols = 2, 3  # 2 rows and 3 columns for 6 features\nfor i, feature in enumerate(numeric_features, 1):\n    plt.subplot(rows, cols, i)\n    sns.boxplot(y=df[feature])\n    plt.title(f\"Boxplot of {feature}\")\nplt.tight_layout()\nplt.show()\n\n# outliers \ndef detect_outliers(feature):\n    Q1 = df[feature].quantile(0.25)\n    Q3 = df[feature].quantile(0.75)\n    IQR = Q3 - Q1\n    lower_bound = Q1 - 1.5 * IQR\n    upper_bound = Q3 + 1.5 * IQR\n    outliers = df[(df[feature] < lower_bound) | (df[feature] > upper_bound)]\n    return outliers\n\nfor feature in numeric_features:\n    outliers = detect_outliers(feature)\n    print(f\"Outliers in {feature}: {len(outliers)}\")\n\n#  important features using correlation with target variable\ntarget_corr = df[numeric_columns].corr()[\"ARRIVAL_DELAY\"].sort_values(ascending=False)\nprint(\"Correlation with ARRIVAL_DELAY:\\n\", target_corr)\n\n#  correlation with target variable\nplt.figure(figsize=(10, 6))\nsns.barplot(x=target_corr.index, y=target_corr.values)\nplt.xticks(rotation=90)\nplt.title(\"Correlation with ARRIVAL_DELAY\")\nplt.show()",
      "metadata": {
        "trusted": true
      },
      "outputs": [],
      "execution_count": null
    }
  ]
}